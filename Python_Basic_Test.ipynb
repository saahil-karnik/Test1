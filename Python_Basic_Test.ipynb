{
  "nbformat": 4,
  "nbformat_minor": 0,
  "metadata": {
    "colab": {
      "provenance": [],
      "authorship_tag": "ABX9TyMTN0a37/BjdTTtmkX9lyU0",
      "include_colab_link": true
    },
    "kernelspec": {
      "name": "python3",
      "display_name": "Python 3"
    },
    "language_info": {
      "name": "python"
    }
  },
  "cells": [
    {
      "cell_type": "markdown",
      "metadata": {
        "id": "view-in-github",
        "colab_type": "text"
      },
      "source": [
        "<a href=\"https://colab.research.google.com/github/saahil-karnik/Test1/blob/main/Python_Basic_Test.ipynb\" target=\"_parent\"><img src=\"https://colab.research.google.com/assets/colab-badge.svg\" alt=\"Open In Colab\"/></a>"
      ]
    },
    {
      "cell_type": "code",
      "execution_count": null,
      "metadata": {
        "id": "2u0g-hovmXuN"
      },
      "outputs": [],
      "source": []
    },
    {
      "cell_type": "markdown",
      "source": [
        "#Python Basics Questions\n",
        "1) What is Python, and why is it popular?\n",
        "- Python is a high-level, interpreted programming language known for its readability, simplicity, and versatility. It was created by Guido van Rossum and first released in 1991.\n",
        "- Python has a clean syntax that is close to English, hence it is great for beginners and professionals alike. It has strong community support, supports a wide range of applications, has cross platform compatibility, and is used by major companies. These are some of the reasons for its popularity.\n",
        "\n",
        "2) What is an interpreter in Python?\n",
        "- An interpreter in Python is a program that executes Python code line by line (or statement by statement), translating it into machine code that the computer can understand and run.\n",
        "\n",
        "3) What are pre-defined keywords in Python?\n",
        "- Pre-defined keywords in Python are reserved words that have special meanings and purposes in the language. These keywords are part of Python's syntax, and one cannot use them as variable names, function names, or identifiers.\n",
        "\n",
        "4) Can keywords be used as variable names?\n",
        "- No, keywords cannot be used as variable names in Python. Keywords are reserved words that have special meaning in the Python language syntax (like if, while, def, etc.). Using them as variable names would confuse the interpreter and lead to syntax errors.\n",
        "\n",
        "5) What is mutability in Python?\n",
        "- Mutability refers to whether or not an object's state (or content) can be changed after it has been created. Mutable\timplies that the object can be changed after creation. Immutable\tobjects cannot be changed after creation.\n",
        "\n",
        "6) Why are lists mutable, but tuples are immutable?\n",
        "- Lists are mutable because they are designed for dynamic, changeable data structures.\n",
        "- Tuples are immutable to provide performance benefits and ensure data remains constant where needed.\n",
        "- This distinction allows developers to choose the right type depending on whether the data should change or stay the same.\n",
        "\n",
        "7) What is the difference between “==” and “is” operators in Python?\n",
        "- The equality operator ('==') checks if two variables have the same value. It also compares the contents of the objects.\n",
        "- Whereas, the identity operator (is) checks if two variables point to the exact same object in memory. It compares the object identity, not the contents.\n",
        "\n",
        "8) What are logical operators in Python?\n",
        "- Logical operators in Python are used to combine multiple conditions (Boolean expressions) and return a Boolean result: True or False.\n",
        "\n",
        "9) What is type casting in Python?\n",
        "- Type casting (or type conversion) in Python is the process of converting a value from one data type to another.\n",
        "\n",
        "10) What is the difference between implicit and explicit type casting?\n",
        "-Implicit type casting is automatically done by Python. It happens when combining compatible types. It is safe — no data loss or errors are expected.\n",
        "- Explicit type casting is manually performed by the programmer. It is done using functions like int(), float(), str(), etc. It might cause data loss or errors if not used carefully.\n",
        "\n",
        "11) What is the purpose of conditional statements in Python?\n",
        "- Conditional statements are used to make decisions in Python programs. They allow the program to execute different blocks of code based on whether a condition is True or False. Conditional statements in Python let your program decide what to do based on given conditions. They are essential for writing logical, responsive, and intelligent code.\n",
        "\n",
        "12) How does the elif statement work?\n",
        "- The elif (short for \"else if\") statement in Python allows you to check multiple conditions, one after another. It runs the first condition that is True and skips the rest.\n",
        "\n",
        "13) What is the difference between for and while loops?\n",
        "- Both for and while loops are used to repeat a block of code, but they work differently and are used for different scenarios.\n",
        "- for loops are used when you know how many times to loop. It iterates over sequences like lists, strings, ranges, etc.\n",
        "- while loops are used when you don't know how many times to loop in advance. It runs as long as a condition is true.\n",
        "\n",
        "14) Describe a scenario where a while loop is more suitable than a for loop.\n",
        "- A while loop is more suitable than a for loop when the number of iterations is unknown ahead of time — like waiting for a user to enter valid input, reading data until a condition is met, or running a game loop until the player quits.\n"
      ],
      "metadata": {
        "id": "7hxChTCzmZS1"
      }
    },
    {
      "cell_type": "code",
      "source": [
        "#Practical Questions\n",
        "\n",
        "#1) Write a Python program to print \"Hello, World!\n",
        "print(\"Hello, World!\")\n"
      ],
      "metadata": {
        "id": "cxq4kSjGOfLA",
        "colab": {
          "base_uri": "https://localhost:8080/"
        },
        "outputId": "74efcf06-10e8-4a27-d7a0-5bfb20e3ffef"
      },
      "execution_count": null,
      "outputs": [
        {
          "output_type": "stream",
          "name": "stdout",
          "text": [
            "Hello, World!\n"
          ]
        }
      ]
    },
    {
      "cell_type": "code",
      "source": [
        "#2) Write a Python program that displays your name and age\n",
        "print(\"Name: Saahil Karnik\")\n",
        "print(\"Age: 26\")"
      ],
      "metadata": {
        "colab": {
          "base_uri": "https://localhost:8080/"
        },
        "id": "TEPRZP-QtW6X",
        "outputId": "a01daa33-f7f1-4f99-e664-3c361ee777fd"
      },
      "execution_count": null,
      "outputs": [
        {
          "output_type": "stream",
          "name": "stdout",
          "text": [
            "Name: Saahil Karnik\n",
            "Age: 26\n"
          ]
        }
      ]
    },
    {
      "cell_type": "code",
      "source": [
        "#3) Write code to print all the pre-defined keywords in Python using the keyword library\n",
        "import keyword\n",
        "\n",
        "keywords_list = keyword.kwlist\n",
        "\n",
        "print(\"Python Keywords:\")\n",
        "for kw in keywords_list:\n",
        "    print(kw)"
      ],
      "metadata": {
        "colab": {
          "base_uri": "https://localhost:8080/"
        },
        "id": "BTJqIi87tZlN",
        "outputId": "ee78c266-89ab-4f66-804a-7351a3bfc819"
      },
      "execution_count": null,
      "outputs": [
        {
          "output_type": "stream",
          "name": "stdout",
          "text": [
            "Python Keywords:\n",
            "False\n",
            "None\n",
            "True\n",
            "and\n",
            "as\n",
            "assert\n",
            "async\n",
            "await\n",
            "break\n",
            "class\n",
            "continue\n",
            "def\n",
            "del\n",
            "elif\n",
            "else\n",
            "except\n",
            "finally\n",
            "for\n",
            "from\n",
            "global\n",
            "if\n",
            "import\n",
            "in\n",
            "is\n",
            "lambda\n",
            "nonlocal\n",
            "not\n",
            "or\n",
            "pass\n",
            "raise\n",
            "return\n",
            "try\n",
            "while\n",
            "with\n",
            "yield\n"
          ]
        }
      ]
    },
    {
      "cell_type": "code",
      "source": [
        "#4) Write a program that checks if a given word is a Python keyword.\n",
        "import keyword\n",
        "\n",
        "word = input(\"Enter your word\")\n",
        "if word in keywords_list:\n",
        "  print(\"Given word is a Python keyword.\")\n",
        "else:\n",
        "  print(\"Given word is not a Python keyword.\")"
      ],
      "metadata": {
        "colab": {
          "base_uri": "https://localhost:8080/"
        },
        "id": "JEsqAnfCtbrF",
        "outputId": "917d63a3-67a6-4f17-ca25-5be726d50d82"
      },
      "execution_count": null,
      "outputs": [
        {
          "output_type": "stream",
          "name": "stdout",
          "text": [
            "Enter your wordpass\n",
            "Given word is a Python keyword.\n"
          ]
        }
      ]
    },
    {
      "cell_type": "code",
      "source": [
        "#5)  Create a list and tuple in Python, and demonstrate how attempting to change an element works differently for each.\n",
        "\n",
        "#List\n",
        "my_list = [10, 20, 30]\n",
        "print(my_list)\n",
        "\n",
        "# Modifying an element in the list\n",
        "my_list[1] = 99\n",
        "print(my_list)\n",
        "\n",
        "#Tuple\n",
        "my_tuple = (10, 20, 30)\n",
        "print(my_tuple)\n",
        "\n",
        "# Modifying an element in the tuple\n",
        "my_tuple[1] = 99\n"
      ],
      "metadata": {
        "colab": {
          "base_uri": "https://localhost:8080/",
          "height": 228
        },
        "id": "TQeTveFRuSMv",
        "outputId": "37372d02-6041-4fe6-963f-7ae58072a0a5"
      },
      "execution_count": null,
      "outputs": [
        {
          "output_type": "stream",
          "name": "stdout",
          "text": [
            "[10, 20, 30]\n",
            "[10, 99, 30]\n",
            "(10, 20, 30)\n"
          ]
        },
        {
          "output_type": "error",
          "ename": "TypeError",
          "evalue": "'tuple' object does not support item assignment",
          "traceback": [
            "\u001b[0;31m---------------------------------------------------------------------------\u001b[0m",
            "\u001b[0;31mTypeError\u001b[0m                                 Traceback (most recent call last)",
            "\u001b[0;32m<ipython-input-8-cd2591b2f4c4>\u001b[0m in \u001b[0;36m<cell line: 0>\u001b[0;34m()\u001b[0m\n\u001b[1;32m     14\u001b[0m \u001b[0;34m\u001b[0m\u001b[0m\n\u001b[1;32m     15\u001b[0m \u001b[0;31m# Modifying an element in the tuple\u001b[0m\u001b[0;34m\u001b[0m\u001b[0;34m\u001b[0m\u001b[0m\n\u001b[0;32m---> 16\u001b[0;31m \u001b[0mmy_tuple\u001b[0m\u001b[0;34m[\u001b[0m\u001b[0;36m1\u001b[0m\u001b[0;34m]\u001b[0m \u001b[0;34m=\u001b[0m \u001b[0;36m99\u001b[0m\u001b[0;34m\u001b[0m\u001b[0;34m\u001b[0m\u001b[0m\n\u001b[0m",
            "\u001b[0;31mTypeError\u001b[0m: 'tuple' object does not support item assignment"
          ]
        }
      ]
    },
    {
      "cell_type": "code",
      "source": [
        "#6) Write a function to demonstrate the behavior of mutable and immutable arguments.\n",
        "def modify_values(num, num_list):\n",
        "    print(\"\\nInside function:\")\n",
        "\n",
        "    # Try modifying the immutable integer\n",
        "    num += 10\n",
        "    print(\"Modified num (int):\", num)\n",
        "\n",
        "    # Modify the mutable list\n",
        "    num_list.append(100)\n",
        "    print(\"Modified num_list (list):\", num_list)\n",
        "\n",
        "# Immutable argument\n",
        "x = 5\n",
        "\n",
        "# Mutable argument\n",
        "my_list = [1, 2, 3]\n",
        "\n",
        "print(\"Before function call:\")\n",
        "print(\"x =\", x)\n",
        "print(\"my_list =\", my_list)\n",
        "\n",
        "# Call the function\n",
        "modify_values(x, my_list)\n",
        "\n",
        "print(\"\\nAfter function call:\")\n",
        "print(\"x =\", x)               # Will NOT change\n",
        "print(\"my_list =\", my_list)   # WILL change\n"
      ],
      "metadata": {
        "colab": {
          "base_uri": "https://localhost:8080/"
        },
        "id": "dkWZ6Xva3CMi",
        "outputId": "df0378e3-0e42-42ac-e205-5c79ce8c538d"
      },
      "execution_count": null,
      "outputs": [
        {
          "output_type": "stream",
          "name": "stdout",
          "text": [
            "Before function call:\n",
            "x = 5\n",
            "my_list = [1, 2, 3]\n",
            "\n",
            "Inside function:\n",
            "Modified num (int): 15\n",
            "Modified num_list (list): [1, 2, 3, 100]\n",
            "\n",
            "After function call:\n",
            "x = 5\n",
            "my_list = [1, 2, 3, 100]\n"
          ]
        }
      ]
    },
    {
      "cell_type": "code",
      "source": [
        "# 7) Write a program that performs basic arithmetic operations on two user-input numbers.\n",
        "#User input number\n",
        "num1 = int(input(\"Enter a number\"))\n",
        "num2 = int(input(\"Enter a number\"))\n",
        "\n",
        "#addition\n",
        "print(num1+num2)\n",
        "\n",
        "#subtraction\n",
        "print(num1-num2)\n",
        "\n",
        "#multiplication\n",
        "print(num1*num2)\n",
        "\n",
        "#division\n",
        "print(num1/num2)\n"
      ],
      "metadata": {
        "colab": {
          "base_uri": "https://localhost:8080/"
        },
        "id": "bdZ4OKlP5XpE",
        "outputId": "ee5e2c4a-8df9-4400-bffa-984da61156dc"
      },
      "execution_count": null,
      "outputs": [
        {
          "output_type": "stream",
          "name": "stdout",
          "text": [
            "Enter a number10\n",
            "Enter a number2\n",
            "12\n",
            "8\n",
            "20\n",
            "5.0\n"
          ]
        }
      ]
    },
    {
      "cell_type": "code",
      "source": [
        "#8) Write a program to demonstrate the use of logical operators.\n",
        "\n",
        "age = 20\n",
        "has_id = True\n",
        "is_member = False\n",
        "\n",
        "# AND logical operator\n",
        "if age >= 18 and has_id:\n",
        "    print(\"Access granted\")\n",
        "\n",
        "# OR logical operator\n",
        "if age >= 18 or is_member:\n",
        "    print(\"Access granted\")\n",
        "\n",
        "# NOT logical operator\n",
        "if not is_member:\n",
        "    print(\"User is not a member.\")\n",
        "\n"
      ],
      "metadata": {
        "colab": {
          "base_uri": "https://localhost:8080/"
        },
        "id": "cweN-lSjIYEN",
        "outputId": "1a5f3320-d31b-406b-bf18-20c7ca0e99a3"
      },
      "execution_count": null,
      "outputs": [
        {
          "output_type": "stream",
          "name": "stdout",
          "text": [
            "Access granted\n",
            "Access granted\n",
            "User is not a member.\n"
          ]
        }
      ]
    },
    {
      "cell_type": "code",
      "source": [
        "#9) Write a Python program to convert user input from string to integer, float, and boolean types.\n",
        "\n",
        "user_input = input(\"Enter something\")\n",
        "\n",
        "#integer\n",
        "print(type(int(user_input)))\n",
        "\n",
        "#float\n",
        "print(type(float(user_input)))\n",
        "\n",
        "#boolean\n",
        "print(type(bool(user_input)))"
      ],
      "metadata": {
        "colab": {
          "base_uri": "https://localhost:8080/"
        },
        "id": "bSsXQP6cKczu",
        "outputId": "a014ffad-017d-4fd3-9fdf-ccc309e9a0f7"
      },
      "execution_count": null,
      "outputs": [
        {
          "output_type": "stream",
          "name": "stdout",
          "text": [
            "Enter something56\n",
            "<class 'int'>\n",
            "<class 'float'>\n",
            "<class 'bool'>\n"
          ]
        }
      ]
    },
    {
      "cell_type": "code",
      "source": [
        "#10) Write code to demonstrate type casting with list elements.\n",
        "#list of strings\n",
        "str_numbers = [\"10\", \"20\", \"30\", \"40\"]\n",
        "print(str_numbers)\n",
        "\n",
        "#integers\n",
        "int_numbers = [int(num) for num in str_numbers]\n",
        "print(int_numbers)\n",
        "\n",
        "#floats\n",
        "float_numbers = [float(num) for num in int_numbers]\n",
        "print(float_numbers)\n",
        "\n",
        "#strings\n",
        "str_again = [str(num) for num in float_numbers]\n",
        "print(str_again)\n"
      ],
      "metadata": {
        "colab": {
          "base_uri": "https://localhost:8080/"
        },
        "id": "1uvSh7nDLXws",
        "outputId": "85b61fd3-1b91-41cf-8669-8d5e3077d40c"
      },
      "execution_count": null,
      "outputs": [
        {
          "output_type": "stream",
          "name": "stdout",
          "text": [
            "['10', '20', '30', '40']\n",
            "[10, 20, 30, 40]\n",
            "[10.0, 20.0, 30.0, 40.0]\n",
            "['10.0', '20.0', '30.0', '40.0']\n"
          ]
        }
      ]
    },
    {
      "cell_type": "code",
      "source": [
        "#11) Write a program that checks if a number is positive, negative, or zero.\n",
        "number = 17\n",
        "\n",
        "if number>0:\n",
        "  print(\"positive\")\n",
        "\n",
        "elif number<0:\n",
        "  print(\"negative\")\n",
        "\n",
        "else:\n",
        "  print(\"zero\")"
      ],
      "metadata": {
        "colab": {
          "base_uri": "https://localhost:8080/"
        },
        "id": "7FzRNGIYO8wx",
        "outputId": "f1a2c36b-5b4e-4e6b-e583-407def00c80c"
      },
      "execution_count": null,
      "outputs": [
        {
          "output_type": "stream",
          "name": "stdout",
          "text": [
            "positive\n"
          ]
        }
      ]
    },
    {
      "cell_type": "code",
      "source": [
        "#12) Write a for loop to print numbers from 1 to 10.\n",
        "\n",
        "for i in range (1, 11):\n",
        "  print (i, end=\" \")"
      ],
      "metadata": {
        "colab": {
          "base_uri": "https://localhost:8080/"
        },
        "id": "iNOCkHJUPWXO",
        "outputId": "734e6268-725f-41ed-ffe8-25ffce809e04"
      },
      "execution_count": null,
      "outputs": [
        {
          "output_type": "stream",
          "name": "stdout",
          "text": [
            "1 2 3 4 5 6 7 8 9 10 "
          ]
        }
      ]
    },
    {
      "cell_type": "code",
      "source": [
        "#13) Write a Python program to find the sum of all even numbers between 1 and 50.\n",
        "\n",
        "sum = 0\n",
        "for i in range (1,51):\n",
        "  if i%2==0:\n",
        "    sum+=i\n",
        "print(sum)"
      ],
      "metadata": {
        "colab": {
          "base_uri": "https://localhost:8080/"
        },
        "id": "dcmJ1MyPQLh8",
        "outputId": "e0cd3600-45e1-4c8a-ff09-9765bb30f9da"
      },
      "execution_count": null,
      "outputs": [
        {
          "output_type": "stream",
          "name": "stdout",
          "text": [
            "650\n"
          ]
        }
      ]
    },
    {
      "cell_type": "code",
      "source": [
        "#14) Write a program to reverse a string using a while loop.\n",
        "original_string = input(\"Enter a string: \")\n",
        "\n",
        "reversed_string = \"\"\n",
        "index = len(original_string) - 1\n",
        "\n",
        "while index >= 0:\n",
        "    reversed_string += original_string[index]\n",
        "    index -= 1\n",
        "\n",
        "print(\"Reversed string:\", reversed_string)\n"
      ],
      "metadata": {
        "colab": {
          "base_uri": "https://localhost:8080/"
        },
        "id": "Opz8Ab7qQt0q",
        "outputId": "0f6949db-80c3-4ab6-d059-6693a6a1ab47"
      },
      "execution_count": null,
      "outputs": [
        {
          "output_type": "stream",
          "name": "stdout",
          "text": [
            "Enter a string: Python\n",
            "Reversed string: nohtyP\n"
          ]
        }
      ]
    },
    {
      "cell_type": "code",
      "source": [
        "#15) Write a Python program to calculate the factorial of a number provided by the user using a while loop.\n",
        "user_input = int(input(\"Enter a number\"))\n",
        "factorial = 1\n",
        "while user_input>0:\n",
        "  factorial*=user_input\n",
        "  user_input-=1\n",
        "\n",
        "print(factorial)"
      ],
      "metadata": {
        "colab": {
          "base_uri": "https://localhost:8080/"
        },
        "id": "03izSnc4S1gz",
        "outputId": "4e976dd9-a5f5-4971-8239-30c7976ca22c"
      },
      "execution_count": null,
      "outputs": [
        {
          "output_type": "stream",
          "name": "stdout",
          "text": [
            "Enter a number3\n",
            "6\n"
          ]
        }
      ]
    }
  ]
}